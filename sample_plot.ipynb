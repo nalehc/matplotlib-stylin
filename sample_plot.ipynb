{
 "cells": [
  {
   "cell_type": "code",
   "execution_count": 1,
   "metadata": {},
   "outputs": [],
   "source": [
    "import matplotlib.pyplot as plt\n",
    "import pandas as pd\n",
    "import numpy as np\n",
    "plt.style.use('metis')\n",
    "import pandas as pd\n",
    "import seaborn as sns\n",
    "from statsmodels.graphics.gofplots import ProbPlot\n",
    "\n",
    "%matplotlib inline\n",
    " "
   ]
  },
  {
   "cell_type": "code",
   "execution_count": 2,
   "metadata": {},
   "outputs": [],
   "source": [
    "df = pd.read_csv('class_lectures/week03-luther2/01-regularization/Practice_data.csv', error_bad_lines=False)"
   ]
  },
  {
   "cell_type": "code",
   "execution_count": 3,
   "metadata": {},
   "outputs": [
    {
     "data": {
      "text/html": [
       "<div>\n",
       "<style scoped>\n",
       "    .dataframe tbody tr th:only-of-type {\n",
       "        vertical-align: middle;\n",
       "    }\n",
       "\n",
       "    .dataframe tbody tr th {\n",
       "        vertical-align: top;\n",
       "    }\n",
       "\n",
       "    .dataframe thead th {\n",
       "        text-align: right;\n",
       "    }\n",
       "</style>\n",
       "<table border=\"1\" class=\"dataframe\">\n",
       "  <thead>\n",
       "    <tr style=\"text-align: right;\">\n",
       "      <th></th>\n",
       "      <th>Ind_Variable_1</th>\n",
       "      <th>Ind_Variable_2</th>\n",
       "      <th>Ind_Variable_3</th>\n",
       "      <th>Ind_Variable_4</th>\n",
       "      <th>Ind_Variable_5</th>\n",
       "      <th>Ind_Variable_6</th>\n",
       "      <th>Dep_Variable</th>\n",
       "    </tr>\n",
       "  </thead>\n",
       "  <tbody>\n",
       "    <tr>\n",
       "      <th>0</th>\n",
       "      <td>-0.662927</td>\n",
       "      <td>0.481136</td>\n",
       "      <td>0.247215</td>\n",
       "      <td>1.958167</td>\n",
       "      <td>4.470671</td>\n",
       "      <td>0.036799</td>\n",
       "      <td>4.945552</td>\n",
       "    </tr>\n",
       "    <tr>\n",
       "      <th>1</th>\n",
       "      <td>1.582828</td>\n",
       "      <td>0.306494</td>\n",
       "      <td>1.548229</td>\n",
       "      <td>-0.707931</td>\n",
       "      <td>1.871754</td>\n",
       "      <td>0.011579</td>\n",
       "      <td>-1.196168</td>\n",
       "    </tr>\n",
       "    <tr>\n",
       "      <th>2</th>\n",
       "      <td>-0.559416</td>\n",
       "      <td>0.022729</td>\n",
       "      <td>1.553344</td>\n",
       "      <td>0.147306</td>\n",
       "      <td>-3.719343</td>\n",
       "      <td>0.213217</td>\n",
       "      <td>-1.244103</td>\n",
       "    </tr>\n",
       "    <tr>\n",
       "      <th>3</th>\n",
       "      <td>-1.741017</td>\n",
       "      <td>0.366741</td>\n",
       "      <td>0.474254</td>\n",
       "      <td>0.111505</td>\n",
       "      <td>5.226183</td>\n",
       "      <td>0.327708</td>\n",
       "      <td>-2.516572</td>\n",
       "    </tr>\n",
       "    <tr>\n",
       "      <th>4</th>\n",
       "      <td>0.139236</td>\n",
       "      <td>0.244032</td>\n",
       "      <td>1.335525</td>\n",
       "      <td>-1.731315</td>\n",
       "      <td>0.091636</td>\n",
       "      <td>0.516423</td>\n",
       "      <td>-12.755672</td>\n",
       "    </tr>\n",
       "  </tbody>\n",
       "</table>\n",
       "</div>"
      ],
      "text/plain": [
       "   Ind_Variable_1  Ind_Variable_2  Ind_Variable_3  Ind_Variable_4  \\\n",
       "0       -0.662927        0.481136        0.247215        1.958167   \n",
       "1        1.582828        0.306494        1.548229       -0.707931   \n",
       "2       -0.559416        0.022729        1.553344        0.147306   \n",
       "3       -1.741017        0.366741        0.474254        0.111505   \n",
       "4        0.139236        0.244032        1.335525       -1.731315   \n",
       "\n",
       "   Ind_Variable_5  Ind_Variable_6  Dep_Variable  \n",
       "0        4.470671        0.036799      4.945552  \n",
       "1        1.871754        0.011579     -1.196168  \n",
       "2       -3.719343        0.213217     -1.244103  \n",
       "3        5.226183        0.327708     -2.516572  \n",
       "4        0.091636        0.516423    -12.755672  "
      ]
     },
     "execution_count": 3,
     "metadata": {},
     "output_type": "execute_result"
    }
   ],
   "source": [
    "df.head()"
   ]
  },
  {
   "cell_type": "code",
   "execution_count": 4,
   "metadata": {},
   "outputs": [
    {
     "name": "stderr",
     "output_type": "stream",
     "text": [
      "/Users/chelan/anaconda3/lib/python3.6/site-packages/statsmodels/compat/pandas.py:56: FutureWarning: The pandas.core.datetools module is deprecated and will be removed in a future version. Please use the pandas.tseries module instead.\n",
      "  from pandas.core import datetools\n"
     ]
    }
   ],
   "source": [
    "import statsmodels.api as sm \n",
    "y = df['Dep_Variable']\n",
    "X = df.drop('Dep_Variable', 1)\n",
    "model = sm.OLS(y, X) \n",
    "results = model.fit()"
   ]
  },
  {
   "cell_type": "code",
   "execution_count": 6,
   "metadata": {},
   "outputs": [
    {
     "data": {
      "image/png": "[encoded data removed]",
      "text/plain": [
       "<matplotlib.figure.Figure at 0xa1ac3f3c8>"
      ]
     },
     "metadata": {},
     "output_type": "display_data"
    }
   ],
   "source": [
    "dataframe = pd.concat([X, y], axis=1)\n",
    "model_fitted_y = results.fittedvalues\n",
    "model_residuals = results.resid\n",
    "\n",
    "plot = plt.figure()\n",
    "\n",
    "plot.ax = sns.residplot(model_fitted_y, dataframe.columns[-1], data=dataframe,\n",
    "                              lowess=True,\n",
    "                              scatter_kws={'alpha': 0.5},\n",
    "                              line_kws={'color': 'red', 'lw': 1, 'alpha': 0.8})\n",
    "\n",
    "plot.ax.set_title('Residuals vs Fitted')\n",
    "plot.ax.set_xlabel('Fitted values')\n",
    "plot.ax.set_ylabel('Residuals');\n",
    "\n",
    "\n",
    "\n",
    "plt.savefig('foo.png', bbox_inches=\"tight\", dpi=1000)"
   ]
  },
  {
   "cell_type": "code",
   "execution_count": null,
   "metadata": {},
   "outputs": [],
   "source": []
  }
 ],
 "metadata": {
  "kernelspec": {
   "display_name": "Python 3",
   "language": "python",
   "name": "python3"
  },
  "language_info": {
   "codemirror_mode": {
    "name": "ipython",
    "version": 3
   },
   "file_extension": ".py",
   "mimetype": "text/x-python",
   "name": "python",
   "nbconvert_exporter": "python",
   "pygments_lexer": "ipython3",
   "version": "3.6.3"
  }
 },
 "nbformat": 4,
 "nbformat_minor": 2
}
